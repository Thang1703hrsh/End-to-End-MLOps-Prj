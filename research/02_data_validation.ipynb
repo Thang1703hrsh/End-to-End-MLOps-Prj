{
 "cells": [
  {
   "cell_type": "code",
   "execution_count": 1,
   "metadata": {},
   "outputs": [],
   "source": [
    "import os"
   ]
  },
  {
   "cell_type": "code",
   "execution_count": 2,
   "metadata": {},
   "outputs": [
    {
     "data": {
      "text/plain": [
       "'c:\\\\Users\\\\Admin\\\\End-to-End-MLOps-Prj\\\\research'"
      ]
     },
     "execution_count": 2,
     "metadata": {},
     "output_type": "execute_result"
    }
   ],
   "source": [
    "%pwd"
   ]
  },
  {
   "cell_type": "code",
   "execution_count": 3,
   "metadata": {},
   "outputs": [],
   "source": [
    "os.chdir(\"../\")"
   ]
  },
  {
   "cell_type": "code",
   "execution_count": 4,
   "metadata": {},
   "outputs": [
    {
     "data": {
      "text/plain": [
       "'c:\\\\Users\\\\Admin\\\\End-to-End-MLOps-Prj'"
      ]
     },
     "execution_count": 4,
     "metadata": {},
     "output_type": "execute_result"
    }
   ],
   "source": [
    "%pwd"
   ]
  },
  {
   "cell_type": "code",
   "execution_count": 5,
   "metadata": {},
   "outputs": [],
   "source": [
    "import pandas as pd"
   ]
  },
  {
   "cell_type": "code",
   "execution_count": 6,
   "metadata": {},
   "outputs": [
    {
     "data": {
      "text/html": [
       "<div>\n",
       "<style scoped>\n",
       "    .dataframe tbody tr th:only-of-type {\n",
       "        vertical-align: middle;\n",
       "    }\n",
       "\n",
       "    .dataframe tbody tr th {\n",
       "        vertical-align: top;\n",
       "    }\n",
       "\n",
       "    .dataframe thead th {\n",
       "        text-align: right;\n",
       "    }\n",
       "</style>\n",
       "<table border=\"1\" class=\"dataframe\">\n",
       "  <thead>\n",
       "    <tr style=\"text-align: right;\">\n",
       "      <th></th>\n",
       "      <th>fixed acidity</th>\n",
       "      <th>volatile acidity</th>\n",
       "      <th>citric acid</th>\n",
       "      <th>residual sugar</th>\n",
       "      <th>chlorides</th>\n",
       "      <th>free sulfur dioxide</th>\n",
       "      <th>total sulfur dioxide</th>\n",
       "      <th>density</th>\n",
       "      <th>pH</th>\n",
       "      <th>sulphates</th>\n",
       "      <th>alcohol</th>\n",
       "      <th>quality</th>\n",
       "    </tr>\n",
       "  </thead>\n",
       "  <tbody>\n",
       "    <tr>\n",
       "      <th>0</th>\n",
       "      <td>7.4</td>\n",
       "      <td>0.70</td>\n",
       "      <td>0.00</td>\n",
       "      <td>1.9</td>\n",
       "      <td>0.076</td>\n",
       "      <td>11.0</td>\n",
       "      <td>34.0</td>\n",
       "      <td>0.9978</td>\n",
       "      <td>3.51</td>\n",
       "      <td>0.56</td>\n",
       "      <td>9.4</td>\n",
       "      <td>5</td>\n",
       "    </tr>\n",
       "    <tr>\n",
       "      <th>1</th>\n",
       "      <td>7.8</td>\n",
       "      <td>0.88</td>\n",
       "      <td>0.00</td>\n",
       "      <td>2.6</td>\n",
       "      <td>0.098</td>\n",
       "      <td>25.0</td>\n",
       "      <td>67.0</td>\n",
       "      <td>0.9968</td>\n",
       "      <td>3.20</td>\n",
       "      <td>0.68</td>\n",
       "      <td>9.8</td>\n",
       "      <td>5</td>\n",
       "    </tr>\n",
       "    <tr>\n",
       "      <th>2</th>\n",
       "      <td>7.8</td>\n",
       "      <td>0.76</td>\n",
       "      <td>0.04</td>\n",
       "      <td>2.3</td>\n",
       "      <td>0.092</td>\n",
       "      <td>15.0</td>\n",
       "      <td>54.0</td>\n",
       "      <td>0.9970</td>\n",
       "      <td>3.26</td>\n",
       "      <td>0.65</td>\n",
       "      <td>9.8</td>\n",
       "      <td>5</td>\n",
       "    </tr>\n",
       "    <tr>\n",
       "      <th>3</th>\n",
       "      <td>11.2</td>\n",
       "      <td>0.28</td>\n",
       "      <td>0.56</td>\n",
       "      <td>1.9</td>\n",
       "      <td>0.075</td>\n",
       "      <td>17.0</td>\n",
       "      <td>60.0</td>\n",
       "      <td>0.9980</td>\n",
       "      <td>3.16</td>\n",
       "      <td>0.58</td>\n",
       "      <td>9.8</td>\n",
       "      <td>6</td>\n",
       "    </tr>\n",
       "    <tr>\n",
       "      <th>4</th>\n",
       "      <td>7.4</td>\n",
       "      <td>0.70</td>\n",
       "      <td>0.00</td>\n",
       "      <td>1.9</td>\n",
       "      <td>0.076</td>\n",
       "      <td>11.0</td>\n",
       "      <td>34.0</td>\n",
       "      <td>0.9978</td>\n",
       "      <td>3.51</td>\n",
       "      <td>0.56</td>\n",
       "      <td>9.4</td>\n",
       "      <td>5</td>\n",
       "    </tr>\n",
       "  </tbody>\n",
       "</table>\n",
       "</div>"
      ],
      "text/plain": [
       "   fixed acidity  volatile acidity  citric acid  residual sugar  chlorides  \\\n",
       "0            7.4              0.70         0.00             1.9      0.076   \n",
       "1            7.8              0.88         0.00             2.6      0.098   \n",
       "2            7.8              0.76         0.04             2.3      0.092   \n",
       "3           11.2              0.28         0.56             1.9      0.075   \n",
       "4            7.4              0.70         0.00             1.9      0.076   \n",
       "\n",
       "   free sulfur dioxide  total sulfur dioxide  density    pH  sulphates  \\\n",
       "0                 11.0                  34.0   0.9978  3.51       0.56   \n",
       "1                 25.0                  67.0   0.9968  3.20       0.68   \n",
       "2                 15.0                  54.0   0.9970  3.26       0.65   \n",
       "3                 17.0                  60.0   0.9980  3.16       0.58   \n",
       "4                 11.0                  34.0   0.9978  3.51       0.56   \n",
       "\n",
       "   alcohol  quality  \n",
       "0      9.4        5  \n",
       "1      9.8        5  \n",
       "2      9.8        5  \n",
       "3      9.8        6  \n",
       "4      9.4        5  "
      ]
     },
     "execution_count": 6,
     "metadata": {},
     "output_type": "execute_result"
    }
   ],
   "source": [
    "data = pd.read_csv(\"artifacts/data_ingestion/winequality-red.csv\")\n",
    "data.head()"
   ]
  },
  {
   "cell_type": "code",
   "execution_count": 7,
   "metadata": {},
   "outputs": [
    {
     "ename": "TypeError",
     "evalue": "Can't instantiate abstract class PandasArray with abstract method _str_lStrip",
     "output_type": "error",
     "traceback": [
      "\u001b[1;31m---------------------------------------------------------------------------\u001b[0m",
      "\u001b[1;31mTypeError\u001b[0m                                 Traceback (most recent call last)",
      "Cell \u001b[1;32mIn[7], line 1\u001b[0m\n\u001b[1;32m----> 1\u001b[0m data\u001b[39m.\u001b[39;49minfo()\n",
      "File \u001b[1;32mc:\\Users\\Admin\\anaconda3\\lib\\site-packages\\pandas\\core\\frame.py:3171\u001b[0m, in \u001b[0;36mDataFrame.info\u001b[1;34m(self, verbose, buf, max_cols, memory_usage, show_counts, null_counts)\u001b[0m\n\u001b[0;32m   3166\u001b[0m     show_counts \u001b[39m=\u001b[39m null_counts\n\u001b[0;32m   3167\u001b[0m info \u001b[39m=\u001b[39m DataFrameInfo(\n\u001b[0;32m   3168\u001b[0m     data\u001b[39m=\u001b[39m\u001b[39mself\u001b[39m,\n\u001b[0;32m   3169\u001b[0m     memory_usage\u001b[39m=\u001b[39mmemory_usage,\n\u001b[0;32m   3170\u001b[0m )\n\u001b[1;32m-> 3171\u001b[0m info\u001b[39m.\u001b[39;49mrender(\n\u001b[0;32m   3172\u001b[0m     buf\u001b[39m=\u001b[39;49mbuf,\n\u001b[0;32m   3173\u001b[0m     max_cols\u001b[39m=\u001b[39;49mmax_cols,\n\u001b[0;32m   3174\u001b[0m     verbose\u001b[39m=\u001b[39;49mverbose,\n\u001b[0;32m   3175\u001b[0m     show_counts\u001b[39m=\u001b[39;49mshow_counts,\n\u001b[0;32m   3176\u001b[0m )\n",
      "File \u001b[1;32mc:\\Users\\Admin\\anaconda3\\lib\\site-packages\\pandas\\io\\formats\\info.py:524\u001b[0m, in \u001b[0;36mDataFrameInfo.render\u001b[1;34m(self, buf, max_cols, verbose, show_counts)\u001b[0m\n\u001b[0;32m    510\u001b[0m \u001b[39mdef\u001b[39;00m \u001b[39mrender\u001b[39m(\n\u001b[0;32m    511\u001b[0m     \u001b[39mself\u001b[39m,\n\u001b[0;32m    512\u001b[0m     \u001b[39m*\u001b[39m,\n\u001b[1;32m   (...)\u001b[0m\n\u001b[0;32m    516\u001b[0m     show_counts: \u001b[39mbool\u001b[39m \u001b[39m|\u001b[39m \u001b[39mNone\u001b[39;00m,\n\u001b[0;32m    517\u001b[0m ) \u001b[39m-\u001b[39m\u001b[39m>\u001b[39m \u001b[39mNone\u001b[39;00m:\n\u001b[0;32m    518\u001b[0m     printer \u001b[39m=\u001b[39m DataFrameInfoPrinter(\n\u001b[0;32m    519\u001b[0m         info\u001b[39m=\u001b[39m\u001b[39mself\u001b[39m,\n\u001b[0;32m    520\u001b[0m         max_cols\u001b[39m=\u001b[39mmax_cols,\n\u001b[0;32m    521\u001b[0m         verbose\u001b[39m=\u001b[39mverbose,\n\u001b[0;32m    522\u001b[0m         show_counts\u001b[39m=\u001b[39mshow_counts,\n\u001b[0;32m    523\u001b[0m     )\n\u001b[1;32m--> 524\u001b[0m     printer\u001b[39m.\u001b[39;49mto_buffer(buf)\n",
      "File \u001b[1;32mc:\\Users\\Admin\\anaconda3\\lib\\site-packages\\pandas\\io\\formats\\info.py:598\u001b[0m, in \u001b[0;36mInfoPrinterAbstract.to_buffer\u001b[1;34m(self, buf)\u001b[0m\n\u001b[0;32m    596\u001b[0m \u001b[39m\"\"\"Save dataframe info into buffer.\"\"\"\u001b[39;00m\n\u001b[0;32m    597\u001b[0m table_builder \u001b[39m=\u001b[39m \u001b[39mself\u001b[39m\u001b[39m.\u001b[39m_create_table_builder()\n\u001b[1;32m--> 598\u001b[0m lines \u001b[39m=\u001b[39m table_builder\u001b[39m.\u001b[39;49mget_lines()\n\u001b[0;32m    599\u001b[0m \u001b[39mif\u001b[39;00m buf \u001b[39mis\u001b[39;00m \u001b[39mNone\u001b[39;00m:  \u001b[39m# pragma: no cover\u001b[39;00m\n\u001b[0;32m    600\u001b[0m     buf \u001b[39m=\u001b[39m sys\u001b[39m.\u001b[39mstdout\n",
      "File \u001b[1;32mc:\\Users\\Admin\\anaconda3\\lib\\site-packages\\pandas\\io\\formats\\info.py:806\u001b[0m, in \u001b[0;36mDataFrameTableBuilder.get_lines\u001b[1;34m(self)\u001b[0m\n\u001b[0;32m    804\u001b[0m     \u001b[39mself\u001b[39m\u001b[39m.\u001b[39m_fill_empty_info()\n\u001b[0;32m    805\u001b[0m \u001b[39melse\u001b[39;00m:\n\u001b[1;32m--> 806\u001b[0m     \u001b[39mself\u001b[39;49m\u001b[39m.\u001b[39;49m_fill_non_empty_info()\n\u001b[0;32m    807\u001b[0m \u001b[39mreturn\u001b[39;00m \u001b[39mself\u001b[39m\u001b[39m.\u001b[39m_lines\n",
      "File \u001b[1;32mc:\\Users\\Admin\\anaconda3\\lib\\site-packages\\pandas\\io\\formats\\info.py:976\u001b[0m, in \u001b[0;36mDataFrameTableBuilderVerbose._fill_non_empty_info\u001b[1;34m(self)\u001b[0m\n\u001b[0;32m    974\u001b[0m \u001b[39mself\u001b[39m\u001b[39m.\u001b[39madd_dtypes_line()\n\u001b[0;32m    975\u001b[0m \u001b[39mif\u001b[39;00m \u001b[39mself\u001b[39m\u001b[39m.\u001b[39mdisplay_memory_usage:\n\u001b[1;32m--> 976\u001b[0m     \u001b[39mself\u001b[39;49m\u001b[39m.\u001b[39;49madd_memory_usage_line()\n",
      "File \u001b[1;32mc:\\Users\\Admin\\anaconda3\\lib\\site-packages\\pandas\\io\\formats\\info.py:836\u001b[0m, in \u001b[0;36mDataFrameTableBuilder.add_memory_usage_line\u001b[1;34m(self)\u001b[0m\n\u001b[0;32m    834\u001b[0m \u001b[39mdef\u001b[39;00m \u001b[39madd_memory_usage_line\u001b[39m(\u001b[39mself\u001b[39m) \u001b[39m-\u001b[39m\u001b[39m>\u001b[39m \u001b[39mNone\u001b[39;00m:\n\u001b[0;32m    835\u001b[0m     \u001b[39m\"\"\"Add line containing memory usage.\"\"\"\u001b[39;00m\n\u001b[1;32m--> 836\u001b[0m     \u001b[39mself\u001b[39m\u001b[39m.\u001b[39m_lines\u001b[39m.\u001b[39mappend(\u001b[39mf\u001b[39m\u001b[39m\"\u001b[39m\u001b[39mmemory usage: \u001b[39m\u001b[39m{\u001b[39;00m\u001b[39mself\u001b[39m\u001b[39m.\u001b[39mmemory_usage_string\u001b[39m}\u001b[39;00m\u001b[39m\"\u001b[39m)\n",
      "File \u001b[1;32mc:\\Users\\Admin\\anaconda3\\lib\\site-packages\\pandas\\io\\formats\\info.py:766\u001b[0m, in \u001b[0;36mTableBuilderAbstract.memory_usage_string\u001b[1;34m(self)\u001b[0m\n\u001b[0;32m    763\u001b[0m \u001b[39m@property\u001b[39m\n\u001b[0;32m    764\u001b[0m \u001b[39mdef\u001b[39;00m \u001b[39mmemory_usage_string\u001b[39m(\u001b[39mself\u001b[39m) \u001b[39m-\u001b[39m\u001b[39m>\u001b[39m \u001b[39mstr\u001b[39m:\n\u001b[0;32m    765\u001b[0m     \u001b[39m\"\"\"Memory usage string with proper size qualifier.\"\"\"\u001b[39;00m\n\u001b[1;32m--> 766\u001b[0m     \u001b[39mreturn\u001b[39;00m \u001b[39mself\u001b[39;49m\u001b[39m.\u001b[39;49minfo\u001b[39m.\u001b[39;49mmemory_usage_string\n",
      "File \u001b[1;32mc:\\Users\\Admin\\anaconda3\\lib\\site-packages\\pandas\\io\\formats\\info.py:422\u001b[0m, in \u001b[0;36mBaseInfo.memory_usage_string\u001b[1;34m(self)\u001b[0m\n\u001b[0;32m    419\u001b[0m \u001b[39m@property\u001b[39m\n\u001b[0;32m    420\u001b[0m \u001b[39mdef\u001b[39;00m \u001b[39mmemory_usage_string\u001b[39m(\u001b[39mself\u001b[39m) \u001b[39m-\u001b[39m\u001b[39m>\u001b[39m \u001b[39mstr\u001b[39m:\n\u001b[0;32m    421\u001b[0m     \u001b[39m\"\"\"Memory usage in a form of human readable string.\"\"\"\u001b[39;00m\n\u001b[1;32m--> 422\u001b[0m     \u001b[39mreturn\u001b[39;00m \u001b[39mf\u001b[39m\u001b[39m\"\u001b[39m\u001b[39m{\u001b[39;00m_sizeof_fmt(\u001b[39mself\u001b[39m\u001b[39m.\u001b[39mmemory_usage_bytes, \u001b[39mself\u001b[39m\u001b[39m.\u001b[39msize_qualifier)\u001b[39m}\u001b[39;00m\u001b[39m\\n\u001b[39;00m\u001b[39m\"\u001b[39m\n",
      "File \u001b[1;32mc:\\Users\\Admin\\anaconda3\\lib\\site-packages\\pandas\\io\\formats\\info.py:508\u001b[0m, in \u001b[0;36mDataFrameInfo.memory_usage_bytes\u001b[1;34m(self)\u001b[0m\n\u001b[0;32m    506\u001b[0m \u001b[39melse\u001b[39;00m:\n\u001b[0;32m    507\u001b[0m     deep \u001b[39m=\u001b[39m \u001b[39mFalse\u001b[39;00m\n\u001b[1;32m--> 508\u001b[0m \u001b[39mreturn\u001b[39;00m \u001b[39mself\u001b[39;49m\u001b[39m.\u001b[39;49mdata\u001b[39m.\u001b[39;49mmemory_usage(index\u001b[39m=\u001b[39;49m\u001b[39mTrue\u001b[39;49;00m, deep\u001b[39m=\u001b[39;49mdeep)\u001b[39m.\u001b[39msum()\n",
      "File \u001b[1;32mc:\\Users\\Admin\\anaconda3\\lib\\site-packages\\pandas\\core\\frame.py:3263\u001b[0m, in \u001b[0;36mDataFrame.memory_usage\u001b[1;34m(self, index, deep)\u001b[0m\n\u001b[0;32m   3178\u001b[0m \u001b[39mdef\u001b[39;00m \u001b[39mmemory_usage\u001b[39m(\u001b[39mself\u001b[39m, index: \u001b[39mbool\u001b[39m \u001b[39m=\u001b[39m \u001b[39mTrue\u001b[39;00m, deep: \u001b[39mbool\u001b[39m \u001b[39m=\u001b[39m \u001b[39mFalse\u001b[39;00m) \u001b[39m-\u001b[39m\u001b[39m>\u001b[39m Series:\n\u001b[0;32m   3179\u001b[0m     \u001b[39m\"\"\"\u001b[39;00m\n\u001b[0;32m   3180\u001b[0m \u001b[39m    Return the memory usage of each column in bytes.\u001b[39;00m\n\u001b[0;32m   3181\u001b[0m \n\u001b[1;32m   (...)\u001b[0m\n\u001b[0;32m   3260\u001b[0m \u001b[39m    5244\u001b[39;00m\n\u001b[0;32m   3261\u001b[0m \u001b[39m    \"\"\"\u001b[39;00m\n\u001b[0;32m   3262\u001b[0m     result \u001b[39m=\u001b[39m \u001b[39mself\u001b[39m\u001b[39m.\u001b[39m_constructor_sliced(\n\u001b[1;32m-> 3263\u001b[0m         [c\u001b[39m.\u001b[39mmemory_usage(index\u001b[39m=\u001b[39m\u001b[39mFalse\u001b[39;00m, deep\u001b[39m=\u001b[39mdeep) \u001b[39mfor\u001b[39;00m col, c \u001b[39min\u001b[39;00m \u001b[39mself\u001b[39m\u001b[39m.\u001b[39mitems()],\n\u001b[0;32m   3264\u001b[0m         index\u001b[39m=\u001b[39m\u001b[39mself\u001b[39m\u001b[39m.\u001b[39mcolumns,\n\u001b[0;32m   3265\u001b[0m     )\n\u001b[0;32m   3266\u001b[0m     \u001b[39mif\u001b[39;00m index:\n\u001b[0;32m   3267\u001b[0m         index_memory_usage \u001b[39m=\u001b[39m \u001b[39mself\u001b[39m\u001b[39m.\u001b[39m_constructor_sliced(\n\u001b[0;32m   3268\u001b[0m             \u001b[39mself\u001b[39m\u001b[39m.\u001b[39mindex\u001b[39m.\u001b[39mmemory_usage(deep\u001b[39m=\u001b[39mdeep), index\u001b[39m=\u001b[39m[\u001b[39m\"\u001b[39m\u001b[39mIndex\u001b[39m\u001b[39m\"\u001b[39m]\n\u001b[0;32m   3269\u001b[0m         )\n",
      "File \u001b[1;32mc:\\Users\\Admin\\anaconda3\\lib\\site-packages\\pandas\\core\\frame.py:3263\u001b[0m, in \u001b[0;36m<listcomp>\u001b[1;34m(.0)\u001b[0m\n\u001b[0;32m   3178\u001b[0m \u001b[39mdef\u001b[39;00m \u001b[39mmemory_usage\u001b[39m(\u001b[39mself\u001b[39m, index: \u001b[39mbool\u001b[39m \u001b[39m=\u001b[39m \u001b[39mTrue\u001b[39;00m, deep: \u001b[39mbool\u001b[39m \u001b[39m=\u001b[39m \u001b[39mFalse\u001b[39;00m) \u001b[39m-\u001b[39m\u001b[39m>\u001b[39m Series:\n\u001b[0;32m   3179\u001b[0m     \u001b[39m\"\"\"\u001b[39;00m\n\u001b[0;32m   3180\u001b[0m \u001b[39m    Return the memory usage of each column in bytes.\u001b[39;00m\n\u001b[0;32m   3181\u001b[0m \n\u001b[1;32m   (...)\u001b[0m\n\u001b[0;32m   3260\u001b[0m \u001b[39m    5244\u001b[39;00m\n\u001b[0;32m   3261\u001b[0m \u001b[39m    \"\"\"\u001b[39;00m\n\u001b[0;32m   3262\u001b[0m     result \u001b[39m=\u001b[39m \u001b[39mself\u001b[39m\u001b[39m.\u001b[39m_constructor_sliced(\n\u001b[1;32m-> 3263\u001b[0m         [c\u001b[39m.\u001b[39;49mmemory_usage(index\u001b[39m=\u001b[39;49m\u001b[39mFalse\u001b[39;49;00m, deep\u001b[39m=\u001b[39;49mdeep) \u001b[39mfor\u001b[39;00m col, c \u001b[39min\u001b[39;00m \u001b[39mself\u001b[39m\u001b[39m.\u001b[39mitems()],\n\u001b[0;32m   3264\u001b[0m         index\u001b[39m=\u001b[39m\u001b[39mself\u001b[39m\u001b[39m.\u001b[39mcolumns,\n\u001b[0;32m   3265\u001b[0m     )\n\u001b[0;32m   3266\u001b[0m     \u001b[39mif\u001b[39;00m index:\n\u001b[0;32m   3267\u001b[0m         index_memory_usage \u001b[39m=\u001b[39m \u001b[39mself\u001b[39m\u001b[39m.\u001b[39m_constructor_sliced(\n\u001b[0;32m   3268\u001b[0m             \u001b[39mself\u001b[39m\u001b[39m.\u001b[39mindex\u001b[39m.\u001b[39mmemory_usage(deep\u001b[39m=\u001b[39mdeep), index\u001b[39m=\u001b[39m[\u001b[39m\"\u001b[39m\u001b[39mIndex\u001b[39m\u001b[39m\"\u001b[39m]\n\u001b[0;32m   3269\u001b[0m         )\n",
      "File \u001b[1;32mc:\\Users\\Admin\\anaconda3\\lib\\site-packages\\pandas\\core\\series.py:5063\u001b[0m, in \u001b[0;36mSeries.memory_usage\u001b[1;34m(self, index, deep)\u001b[0m\n\u001b[0;32m   5014\u001b[0m \u001b[39mdef\u001b[39;00m \u001b[39mmemory_usage\u001b[39m(\u001b[39mself\u001b[39m, index: \u001b[39mbool\u001b[39m \u001b[39m=\u001b[39m \u001b[39mTrue\u001b[39;00m, deep: \u001b[39mbool\u001b[39m \u001b[39m=\u001b[39m \u001b[39mFalse\u001b[39;00m) \u001b[39m-\u001b[39m\u001b[39m>\u001b[39m \u001b[39mint\u001b[39m:\n\u001b[0;32m   5015\u001b[0m     \u001b[39m\"\"\"\u001b[39;00m\n\u001b[0;32m   5016\u001b[0m \u001b[39m    Return the memory usage of the Series.\u001b[39;00m\n\u001b[0;32m   5017\u001b[0m \n\u001b[1;32m   (...)\u001b[0m\n\u001b[0;32m   5061\u001b[0m \u001b[39m    244\u001b[39;00m\n\u001b[0;32m   5062\u001b[0m \u001b[39m    \"\"\"\u001b[39;00m\n\u001b[1;32m-> 5063\u001b[0m     v \u001b[39m=\u001b[39m \u001b[39mself\u001b[39;49m\u001b[39m.\u001b[39;49m_memory_usage(deep\u001b[39m=\u001b[39;49mdeep)\n\u001b[0;32m   5064\u001b[0m     \u001b[39mif\u001b[39;00m index:\n\u001b[0;32m   5065\u001b[0m         v \u001b[39m+\u001b[39m\u001b[39m=\u001b[39m \u001b[39mself\u001b[39m\u001b[39m.\u001b[39mindex\u001b[39m.\u001b[39mmemory_usage(deep\u001b[39m=\u001b[39mdeep)\n",
      "File \u001b[1;32mc:\\Users\\Admin\\anaconda3\\lib\\site-packages\\pandas\\core\\base.py:1103\u001b[0m, in \u001b[0;36mIndexOpsMixin._memory_usage\u001b[1;34m(self, deep)\u001b[0m\n\u001b[0;32m   1079\u001b[0m \u001b[39mdef\u001b[39;00m \u001b[39m_memory_usage\u001b[39m(\u001b[39mself\u001b[39m, deep: \u001b[39mbool\u001b[39m \u001b[39m=\u001b[39m \u001b[39mFalse\u001b[39;00m) \u001b[39m-\u001b[39m\u001b[39m>\u001b[39m \u001b[39mint\u001b[39m:\n\u001b[0;32m   1080\u001b[0m     \u001b[39m\"\"\"\u001b[39;00m\n\u001b[0;32m   1081\u001b[0m \u001b[39m    Memory usage of the values.\u001b[39;00m\n\u001b[0;32m   1082\u001b[0m \n\u001b[1;32m   (...)\u001b[0m\n\u001b[0;32m   1101\u001b[0m \u001b[39m    are not components of the array if deep=False or if used on PyPy\u001b[39;00m\n\u001b[0;32m   1102\u001b[0m \u001b[39m    \"\"\"\u001b[39;00m\n\u001b[1;32m-> 1103\u001b[0m     \u001b[39mif\u001b[39;00m \u001b[39mhasattr\u001b[39m(\u001b[39mself\u001b[39;49m\u001b[39m.\u001b[39;49marray, \u001b[39m\"\u001b[39m\u001b[39mmemory_usage\u001b[39m\u001b[39m\"\u001b[39m):\n\u001b[0;32m   1104\u001b[0m         \u001b[39m# https://github.com/python/mypy/issues/1424\u001b[39;00m\n\u001b[0;32m   1105\u001b[0m         \u001b[39m# error: \"ExtensionArray\" has no attribute \"memory_usage\"\u001b[39;00m\n\u001b[0;32m   1106\u001b[0m         \u001b[39mreturn\u001b[39;00m \u001b[39mself\u001b[39m\u001b[39m.\u001b[39marray\u001b[39m.\u001b[39mmemory_usage(deep\u001b[39m=\u001b[39mdeep)  \u001b[39m# type: ignore[attr-defined]\u001b[39;00m\n\u001b[0;32m   1108\u001b[0m     v \u001b[39m=\u001b[39m \u001b[39mself\u001b[39m\u001b[39m.\u001b[39marray\u001b[39m.\u001b[39mnbytes\n",
      "File \u001b[1;32mc:\\Users\\Admin\\anaconda3\\lib\\site-packages\\pandas\\core\\series.py:725\u001b[0m, in \u001b[0;36mSeries.array\u001b[1;34m(self)\u001b[0m\n\u001b[0;32m    722\u001b[0m \u001b[39m@Appender\u001b[39m(base\u001b[39m.\u001b[39mIndexOpsMixin\u001b[39m.\u001b[39marray\u001b[39m.\u001b[39m\u001b[39m__doc__\u001b[39m)  \u001b[39m# type: ignore[misc]\u001b[39;00m\n\u001b[0;32m    723\u001b[0m \u001b[39m@property\u001b[39m\n\u001b[0;32m    724\u001b[0m \u001b[39mdef\u001b[39;00m \u001b[39marray\u001b[39m(\u001b[39mself\u001b[39m) \u001b[39m-\u001b[39m\u001b[39m>\u001b[39m ExtensionArray:\n\u001b[1;32m--> 725\u001b[0m     \u001b[39mreturn\u001b[39;00m \u001b[39mself\u001b[39;49m\u001b[39m.\u001b[39;49m_mgr\u001b[39m.\u001b[39;49marray_values()\n",
      "File \u001b[1;32mc:\\Users\\Admin\\anaconda3\\lib\\site-packages\\pandas\\core\\internals\\managers.py:1854\u001b[0m, in \u001b[0;36mSingleBlockManager.array_values\u001b[1;34m(self)\u001b[0m\n\u001b[0;32m   1852\u001b[0m \u001b[39mdef\u001b[39;00m \u001b[39marray_values\u001b[39m(\u001b[39mself\u001b[39m):\n\u001b[0;32m   1853\u001b[0m     \u001b[39m\"\"\"The array that Series.array returns\"\"\"\u001b[39;00m\n\u001b[1;32m-> 1854\u001b[0m     \u001b[39mreturn\u001b[39;00m \u001b[39mself\u001b[39;49m\u001b[39m.\u001b[39;49m_block\u001b[39m.\u001b[39;49marray_values\n",
      "File \u001b[1;32mc:\\Users\\Admin\\anaconda3\\lib\\site-packages\\pandas\\core\\internals\\blocks.py:220\u001b[0m, in \u001b[0;36mBlock.array_values\u001b[1;34m(self)\u001b[0m\n\u001b[0;32m    215\u001b[0m \u001b[39m\"\"\"\u001b[39;00m\n\u001b[0;32m    216\u001b[0m \u001b[39mThe array that Series.array returns. Always an ExtensionArray.\u001b[39;00m\n\u001b[0;32m    217\u001b[0m \u001b[39m\"\"\"\u001b[39;00m\n\u001b[0;32m    218\u001b[0m \u001b[39m# error: Argument 1 to \"PandasArray\" has incompatible type \"Union[ndarray,\u001b[39;00m\n\u001b[0;32m    219\u001b[0m \u001b[39m# ExtensionArray]\"; expected \"Union[ndarray, PandasArray]\"\u001b[39;00m\n\u001b[1;32m--> 220\u001b[0m \u001b[39mreturn\u001b[39;00m PandasArray(\u001b[39mself\u001b[39;49m\u001b[39m.\u001b[39;49mvalues)\n",
      "\u001b[1;31mTypeError\u001b[0m: Can't instantiate abstract class PandasArray with abstract method _str_lStrip"
     ]
    }
   ],
   "source": [
    "data.info()"
   ]
  },
  {
   "cell_type": "code",
   "execution_count": null,
   "metadata": {},
   "outputs": [
    {
     "data": {
      "text/plain": [
       "fixed acidity           0\n",
       "volatile acidity        0\n",
       "citric acid             0\n",
       "residual sugar          0\n",
       "chlorides               0\n",
       "free sulfur dioxide     0\n",
       "total sulfur dioxide    0\n",
       "density                 0\n",
       "pH                      0\n",
       "sulphates               0\n",
       "alcohol                 0\n",
       "quality                 0\n",
       "dtype: int64"
      ]
     },
     "execution_count": 8,
     "metadata": {},
     "output_type": "execute_result"
    }
   ],
   "source": [
    "data.isnull().sum()"
   ]
  },
  {
   "cell_type": "code",
   "execution_count": null,
   "metadata": {},
   "outputs": [
    {
     "data": {
      "text/plain": [
       "(1599, 12)"
      ]
     },
     "execution_count": 9,
     "metadata": {},
     "output_type": "execute_result"
    }
   ],
   "source": [
    "data.shape"
   ]
  },
  {
   "cell_type": "code",
   "execution_count": null,
   "metadata": {},
   "outputs": [
    {
     "data": {
      "text/plain": [
       "Index(['fixed acidity', 'volatile acidity', 'citric acid', 'residual sugar',\n",
       "       'chlorides', 'free sulfur dioxide', 'total sulfur dioxide', 'density',\n",
       "       'pH', 'sulphates', 'alcohol', 'quality'],\n",
       "      dtype='object')"
      ]
     },
     "execution_count": 10,
     "metadata": {},
     "output_type": "execute_result"
    }
   ],
   "source": [
    "data.columns"
   ]
  },
  {
   "cell_type": "code",
   "execution_count": null,
   "metadata": {},
   "outputs": [],
   "source": [
    "from dataclasses import dataclass\n",
    "from pathlib import Path\n",
    "\n",
    "\n",
    "@dataclass(frozen=True)\n",
    "class DataValidationConfig:\n",
    "    root_dir: Path\n",
    "    STATUS_FILE: str\n",
    "    unzip_data_dir: Path\n",
    "    all_schema: dict"
   ]
  },
  {
   "cell_type": "code",
   "execution_count": null,
   "metadata": {},
   "outputs": [],
   "source": [
    "from src.mlProject.constants import *\n",
    "from src.mlProject.utils.common import read_yaml, create_directories"
   ]
  },
  {
   "cell_type": "code",
   "execution_count": null,
   "metadata": {},
   "outputs": [],
   "source": [
    "class ConfigurationManager:\n",
    "    def __init__(\n",
    "        self,\n",
    "        config_filepath = CONFIG_FILE_PATH,\n",
    "        params_filepath = PARAMS_FILE_PATH,\n",
    "        schema_filepath = SCHEMA_FILE_PATH):\n",
    "\n",
    "        self.config = read_yaml(config_filepath)\n",
    "        self.params = read_yaml(params_filepath)\n",
    "        self.schema = read_yaml(schema_filepath)\n",
    "\n",
    "        create_directories([self.config.artifacts_root])\n",
    "\n",
    "\n",
    "    \n",
    "    def get_data_validation_config(self) -> DataValidationConfig:\n",
    "        config = self.config.data_validation\n",
    "        schema = self.schema.COLUMNS\n",
    "\n",
    "        create_directories([config.root_dir])\n",
    "\n",
    "        data_validation_config = DataValidationConfig(\n",
    "            root_dir=config.root_dir,\n",
    "            STATUS_FILE=config.STATUS_FILE,\n",
    "            unzip_data_dir = config.unzip_data_dir,\n",
    "            all_schema=schema,\n",
    "        )\n",
    "\n",
    "        return data_validation_config"
   ]
  },
  {
   "cell_type": "code",
   "execution_count": null,
   "metadata": {},
   "outputs": [],
   "source": [
    "import os\n",
    "from src.mlProject import logger"
   ]
  },
  {
   "cell_type": "code",
   "execution_count": null,
   "metadata": {},
   "outputs": [],
   "source": [
    "class DataValiadtion:\n",
    "    def __init__(self, config: DataValidationConfig):\n",
    "        self.config = config\n",
    "\n",
    "\n",
    "    def validate_all_columns(self)-> bool:\n",
    "        try:\n",
    "            validation_status = None\n",
    "\n",
    "            data = pd.read_csv(self.config.unzip_data_dir)\n",
    "            all_cols = list(data.columns)\n",
    "\n",
    "            all_schema = self.config.all_schema.keys()\n",
    "\n",
    "            \n",
    "            for col in all_cols:\n",
    "                if col not in all_schema:\n",
    "                    validation_status = False\n",
    "                    with open(self.config.STATUS_FILE, 'w') as f:\n",
    "                        f.write(f\"Validation status: {validation_status}\")\n",
    "                else:\n",
    "                    validation_status = True\n",
    "                    with open(self.config.STATUS_FILE, 'w') as f:\n",
    "                        f.write(f\"Validation status: {validation_status}\")\n",
    "\n",
    "            return validation_status\n",
    "        \n",
    "        except Exception as e:\n",
    "            raise e\n",
    "\n"
   ]
  },
  {
   "cell_type": "code",
   "execution_count": null,
   "metadata": {},
   "outputs": [
    {
     "name": "stdout",
     "output_type": "stream",
     "text": [
      "[2023-09-06 21:43:05,194: INFO: common: yaml file: config\\config.yaml loaded successfully]\n",
      "[2023-09-06 21:43:05,195: INFO: common: yaml file: params.yaml loaded successfully]\n",
      "[2023-09-06 21:43:05,196: INFO: common: yaml file: schema.yaml loaded successfully]\n",
      "[2023-09-06 21:43:05,198: INFO: common: created directory at: artifacts]\n",
      "[2023-09-06 21:43:05,198: INFO: common: created directory at: artifacts/data_validation]\n"
     ]
    }
   ],
   "source": [
    "try:\n",
    "    config = ConfigurationManager()\n",
    "    data_validation_config = config.get_data_validation_config()\n",
    "    data_validation = DataValiadtion(config=data_validation_config)\n",
    "    data_validation.validate_all_columns()\n",
    "except Exception as e:\n",
    "    raise e"
   ]
  },
  {
   "cell_type": "code",
   "execution_count": null,
   "metadata": {},
   "outputs": [],
   "source": []
  },
  {
   "cell_type": "code",
   "execution_count": null,
   "metadata": {},
   "outputs": [],
   "source": []
  }
 ],
 "metadata": {
  "kernelspec": {
   "display_name": "base",
   "language": "python",
   "name": "python3"
  },
  "language_info": {
   "codemirror_mode": {
    "name": "ipython",
    "version": 3
   },
   "file_extension": ".py",
   "mimetype": "text/x-python",
   "name": "python",
   "nbconvert_exporter": "python",
   "pygments_lexer": "ipython3",
   "version": "3.9.12"
  },
  "orig_nbformat": 4
 },
 "nbformat": 4,
 "nbformat_minor": 2
}
